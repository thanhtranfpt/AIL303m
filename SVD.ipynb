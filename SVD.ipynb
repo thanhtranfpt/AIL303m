{
 "cells": [
  {
   "cell_type": "markdown",
   "metadata": {},
   "source": [
    "<center>\n",
    "    <img src=\"https://cf-courses-data.s3.us.cloud-object-storage.appdomain.cloud/assets/logos/SN_web_lightmode.png\" width=\"300\" alt=\"cognitiveclass.ai logo\"  />\n",
    "</center>\n"
   ]
  },
  {
   "cell_type": "markdown",
   "metadata": {},
   "source": [
    "# Singular-Value Decomposition (SVD)\n",
    "\n",
    "Estimated time needed: **45** minutes\n",
    "\n",
    "You are a computer vision engineer and a self-driving car company has hired you.  The company would like you to remove all objects other than the street from several security videos using singular value decomposition to help test their vision system. You will use the  <a href=\"https://www.svcl.ucsd.edu/projects/background_subtraction/ucsdbgsub_dataset.html?utm_medium=Exinfluencer&utm_source=Exinfluencer&utm_content=000026UJ&utm_term=10006555&utm_id=NA-SkillsNetwork-Channel-SkillsNetworkCoursesIBMML0187ENSkillsNetwork31430127-2022-01-01\"> Background Subtraction in Dynamic dataset  </a> from the  Statistical Visual Computing Laboratory (SVCL) at UCSD.\n",
    "\n",
    "<img src=\"https://cf-courses-data.s3.us.cloud-object-storage.appdomain.cloud/IBM-ML0187EN-SkillsNetwork/labs/module%203/images/15104006386_1bf6bfe96a_b.jpeg\" width=\"600\" />\n"
   ]
  },
  {
   "cell_type": "markdown",
   "metadata": {},
   "source": [
    "## Table of Contents\n",
    "\n",
    "<ol>\n",
    "    <li><a href=\"https://#Objectives\">Objectives</a></li>\n",
    "    <li>\n",
    "        <a href=\"https://#Setup\">Setup</a>\n",
    "        <ol>\n",
    "            <li><a href=\"https://#Installing-Required-Libraries\">Installing Required Libraries</a></li>\n",
    "            <li><a href=\"https://#Importing-Required-Libraries\">Importing Required Libraries</a></li>\n",
    "            <li><a href=\"https://#Defining-Helper-Functions\">Defining Helper Functions</a></li>\n",
    "        </ol>\n",
    "    </li>\n",
    "    <li><a href=\"https://#Singular Value Decomposition\">Singular Value Decomposition</a></li>\n",
    "    <li>\n",
    "        <a href=\"https://#Truncated SVD\">Truncated SVD</a>\n",
    "        <ol>\n",
    "            <li><a href=\"https://#Truncated SVD in Sklearn\">Truncated SVD in Sklearn</a></li>\n",
    "            <li><a href=\"https://#Background Model using SVD\">Background Model using SVD</a></li>\n",
    "        </ol>\n",
    "    </li>\n",
    "    <li>\n",
    "        <a href=\"https://#Exercises\">Exercises</a>\n",
    "        <ol>\n",
    "            <li><a href=\"https://#Exercise 1\">Exercise 1</a></li>\n",
    "            <li><a href=\"https://#Exercise 2\">Exercise 2</a></li>\n",
    "            <li><a href=\"https://#Exercise 3\">Exercise 3</a></li>\n",
    "            <li><a href=\"https://#Exercise 4\">Exercise 4</a></li>\n",
    "            <li><a href=\"https://#Exercise 5\">Exercise 5</a></li>\n",
    "        </ol>\n",
    "    </li>\n",
    "    <li><a href=\"https://#SVD from Scratch (optional)\">SVD from Scratch (optional)</a></li>\n",
    "    <li><a href=\"https://#Relationship between SVD and PCA (optional)\">Relationship between SVD and PCA (optional)</a></li>\n",
    "\n",
    " </ol>    \n"
   ]
  },
  {
   "cell_type": "markdown",
   "metadata": {},
   "source": [
    "***\n"
   ]
  },
  {
   "cell_type": "markdown",
   "metadata": {
    "tags": []
   },
   "source": [
    "## Objectives\n",
    "\n",
    "*   **Understand** what is SVD in terms of Matrix Decomposition\n",
    "*   **Understand** Truncated SVD\n",
    "*   **Apply** Truncated SVD  using numpy and Sklearn\n",
    "*   **Apply** Truncated SVD  to real data\n",
    "*   **Understand** the relationship between SVD and PCA (optional)\n"
   ]
  },
  {
   "cell_type": "markdown",
   "metadata": {
    "tags": []
   },
   "source": [
    "## Datasets\n"
   ]
  },
  {
   "cell_type": "markdown",
   "metadata": {
    "tags": []
   },
   "source": [
    "Download and unzip the datasets:\n"
   ]
  },
  {
   "cell_type": "code",
   "execution_count": 1,
   "metadata": {},
   "outputs": [
    {
     "ename": "FileNotFoundError",
     "evalue": "[Errno 2] No such file or directory: '\\\\tmp\\\\skills-network-5807962279530353642-traffic.tar.gz'",
     "output_type": "error",
     "traceback": [
      "\u001b[1;31m---------------------------------------------------------------------------\u001b[0m",
      "\u001b[1;31mFileNotFoundError\u001b[0m                         Traceback (most recent call last)",
      "\u001b[1;32m~\\AppData\\Local\\Temp\\ipykernel_13624\\2499557078.py\u001b[0m in \u001b[0;36m<module>\u001b[1;34m\u001b[0m\n\u001b[0;32m      1\u001b[0m \u001b[1;32mimport\u001b[0m \u001b[0mskillsnetwork\u001b[0m\u001b[1;33m\u001b[0m\u001b[1;33m\u001b[0m\u001b[0m\n\u001b[0;32m      2\u001b[0m \u001b[1;33m\u001b[0m\u001b[0m\n\u001b[1;32m----> 3\u001b[1;33m \u001b[1;32mawait\u001b[0m \u001b[0mskillsnetwork\u001b[0m\u001b[1;33m.\u001b[0m\u001b[0mprepare\u001b[0m\u001b[1;33m(\u001b[0m\u001b[1;34m\"https://cf-courses-data.s3.us.cloud-object-storage.appdomain.cloud/IBM-ML0187EN-SkillsNetwork/labs/module%203/data/traffic.tar.gz\"\u001b[0m\u001b[1;33m)\u001b[0m\u001b[1;33m\u001b[0m\u001b[1;33m\u001b[0m\u001b[0m\n\u001b[0m\u001b[0;32m      4\u001b[0m \u001b[1;32mawait\u001b[0m \u001b[0mskillsnetwork\u001b[0m\u001b[1;33m.\u001b[0m\u001b[0mprepare\u001b[0m\u001b[1;33m(\u001b[0m\u001b[1;34m\"https://cf-courses-data.s3.us.cloud-object-storage.appdomain.cloud/IBM-ML0187EN-SkillsNetwork/labs/module%203/data/peds.tar.gz\"\u001b[0m\u001b[1;33m)\u001b[0m\u001b[1;33m\u001b[0m\u001b[1;33m\u001b[0m\u001b[0m\n\u001b[0;32m      5\u001b[0m \u001b[1;32mawait\u001b[0m \u001b[0mskillsnetwork\u001b[0m\u001b[1;33m.\u001b[0m\u001b[0mprepare\u001b[0m\u001b[1;33m(\u001b[0m\u001b[1;34m\"https://cf-courses-data.s3.us.cloud-object-storage.appdomain.cloud/IBM-ML0187EN-SkillsNetwork/labs/module%203/data/boats.tar.gz\"\u001b[0m\u001b[1;33m)\u001b[0m\u001b[1;33m\u001b[0m\u001b[1;33m\u001b[0m\u001b[0m\n",
      "\u001b[1;32mT:\\Anaconda\\lib\\site-packages\\skillsnetwork\\core.py\u001b[0m in \u001b[0;36mprepare\u001b[1;34m(url, path, verbose, overwrite)\u001b[0m\n\u001b[0;32m    247\u001b[0m     \u001b[1;31m# Download the dataset to tmp_download_file file\u001b[0m\u001b[1;33m\u001b[0m\u001b[1;33m\u001b[0m\u001b[0m\n\u001b[0;32m    248\u001b[0m     \u001b[1;31m# File will be overwritten if it already exists\u001b[0m\u001b[1;33m\u001b[0m\u001b[1;33m\u001b[0m\u001b[0m\n\u001b[1;32m--> 249\u001b[1;33m     \u001b[1;32mawait\u001b[0m \u001b[0mdownload\u001b[0m\u001b[1;33m(\u001b[0m\u001b[0murl\u001b[0m\u001b[1;33m,\u001b[0m \u001b[0mtmp_download_file\u001b[0m\u001b[1;33m,\u001b[0m \u001b[0mverbose\u001b[0m\u001b[1;33m=\u001b[0m\u001b[1;32mFalse\u001b[0m\u001b[1;33m)\u001b[0m\u001b[1;33m\u001b[0m\u001b[1;33m\u001b[0m\u001b[0m\n\u001b[0m\u001b[0;32m    250\u001b[0m \u001b[1;33m\u001b[0m\u001b[0m\n\u001b[0;32m    251\u001b[0m     \u001b[1;31m# Delete extract_dir directory if it already exists\u001b[0m\u001b[1;33m\u001b[0m\u001b[1;33m\u001b[0m\u001b[0m\n",
      "\u001b[1;32mT:\\Anaconda\\lib\\site-packages\\skillsnetwork\\core.py\u001b[0m in \u001b[0;36mdownload\u001b[1;34m(url, path, verbose, chunk_size)\u001b[0m\n\u001b[0;32m    184\u001b[0m         \u001b[1;32mif\u001b[0m \u001b[0mpath\u001b[0m\u001b[1;33m.\u001b[0m\u001b[0mis_dir\u001b[0m\u001b[1;33m(\u001b[0m\u001b[1;33m)\u001b[0m\u001b[1;33m:\u001b[0m\u001b[1;33m\u001b[0m\u001b[1;33m\u001b[0m\u001b[0m\n\u001b[0;32m    185\u001b[0m             \u001b[0mpath\u001b[0m \u001b[1;33m/=\u001b[0m \u001b[0mfilename\u001b[0m\u001b[1;33m\u001b[0m\u001b[1;33m\u001b[0m\u001b[0m\n\u001b[1;32m--> 186\u001b[1;33m     \u001b[1;32mwith\u001b[0m \u001b[0mopen\u001b[0m\u001b[1;33m(\u001b[0m\u001b[0mpath\u001b[0m\u001b[1;33m,\u001b[0m \u001b[1;34m\"wb\"\u001b[0m\u001b[1;33m)\u001b[0m \u001b[1;32mas\u001b[0m \u001b[0mf\u001b[0m\u001b[1;33m:\u001b[0m  \u001b[1;31m# Will raise FileNotFoundError if invalid path\u001b[0m\u001b[1;33m\u001b[0m\u001b[1;33m\u001b[0m\u001b[0m\n\u001b[0m\u001b[0;32m    187\u001b[0m         \u001b[1;32masync\u001b[0m \u001b[1;32mfor\u001b[0m \u001b[0mchunk\u001b[0m \u001b[1;32min\u001b[0m \u001b[0m_get_chunks\u001b[0m\u001b[1;33m(\u001b[0m\u001b[0murl\u001b[0m\u001b[1;33m,\u001b[0m \u001b[0mchunk_size\u001b[0m\u001b[1;33m)\u001b[0m\u001b[1;33m:\u001b[0m\u001b[1;33m\u001b[0m\u001b[1;33m\u001b[0m\u001b[0m\n\u001b[0;32m    188\u001b[0m             \u001b[0mf\u001b[0m\u001b[1;33m.\u001b[0m\u001b[0mwrite\u001b[0m\u001b[1;33m(\u001b[0m\u001b[0mchunk\u001b[0m\u001b[1;33m)\u001b[0m\u001b[1;33m\u001b[0m\u001b[1;33m\u001b[0m\u001b[0m\n",
      "\u001b[1;31mFileNotFoundError\u001b[0m: [Errno 2] No such file or directory: '\\\\tmp\\\\skills-network-5807962279530353642-traffic.tar.gz'"
     ]
    }
   ],
   "source": [
    "import skillsnetwork\n",
    "\n",
    "await skillsnetwork.prepare(\"https://cf-courses-data.s3.us.cloud-object-storage.appdomain.cloud/IBM-ML0187EN-SkillsNetwork/labs/module%203/data/traffic.tar.gz\")\n",
    "await skillsnetwork.prepare(\"https://cf-courses-data.s3.us.cloud-object-storage.appdomain.cloud/IBM-ML0187EN-SkillsNetwork/labs/module%203/data/peds.tar.gz\")\n",
    "await skillsnetwork.prepare(\"https://cf-courses-data.s3.us.cloud-object-storage.appdomain.cloud/IBM-ML0187EN-SkillsNetwork/labs/module%203/data/boats.tar.gz\")\n"
   ]
  },
  {
   "cell_type": "markdown",
   "metadata": {},
   "source": [
    "## Setup\n"
   ]
  },
  {
   "cell_type": "markdown",
   "metadata": {},
   "source": [
    "For this lab, we will be using the following libraries:\n",
    "\n",
    "*   [`pandas`](https://pandas.pydata.org/?utm_medium=Exinfluencer&utm_source=Exinfluencer&utm_content=000026UJ&utm_term=10006555&utm_id=NA-SkillsNetwork-Channel-SkillsNetworkCoursesIBMML240ENSkillsNetwork34171862-2022-01-01) for managing the data.\n",
    "*   [`numpy`](https://numpy.org/?utm_medium=Exinfluencer&utm_source=Exinfluencer&utm_content=000026UJ&utm_term=10006555&utm_id=NA-SkillsNetwork-Channel-SkillsNetworkCoursesIBMML240ENSkillsNetwork34171862-2022-01-01) for mathematical operations.\n",
    "*   [`seaborn`](https://seaborn.pydata.org/?utm_medium=Exinfluencer&utm_source=Exinfluencer&utm_content=000026UJ&utm_term=10006555&utm_id=NA-SkillsNetwork-Channel-SkillsNetworkCoursesIBMML240ENSkillsNetwork34171862-2022-01-01) for visualizing the data.\n",
    "*   [`matplotlib`](https://matplotlib.org/?utm_medium=Exinfluencer&utm_source=Exinfluencer&utm_content=000026UJ&utm_term=10006555&utm_id=NA-SkillsNetwork-Channel-SkillsNetworkCoursesIBMML240ENSkillsNetwork34171862-2022-01-01) for visualizing the data.\n",
    "*   [`sklearn`](https://scikit-learn.org/stable/?utm_medium=Exinfluencer&utm_source=Exinfluencer&utm_content=000026UJ&utm_term=10006555&utm_id=NA-SkillsNetwork-Channel-SkillsNetworkCoursesIBMML240ENSkillsNetwork34171862-2022-01-01) for machine learning and machine-learning-pipeline related functions.\n"
   ]
  },
  {
   "cell_type": "markdown",
   "metadata": {
    "tags": []
   },
   "source": [
    "### Installing  required libraries\n"
   ]
  },
  {
   "cell_type": "markdown",
   "metadata": {},
   "source": [
    "The following required modules are pre-installed in the Skills Network Labs environment. However, if you run this notebook commands in a different Jupyter environment (e.g. Watson Studio or Anaconda) you will need to install these libraries by removing the `#` sign before `!mamba` in the code cell below.\n"
   ]
  },
  {
   "cell_type": "code",
   "execution_count": null,
   "metadata": {},
   "outputs": [],
   "source": [
    "# All Libraries required for this lab are listed below. The libraries pre-installed on Skills Network Labs are commented.\n",
    "# !mamba install -qy pandas==1.3.4 numpy==1.21.4 seaborn==0.9.0 matplotlib==3.5.0 scikit-learn==0.20.1\n",
    "# Note: If your environment doesn't support \"!mamba install\", use \"!pip install pandas==1.3.4 ...\""
   ]
  },
  {
   "cell_type": "markdown",
   "metadata": {},
   "source": [
    "Install <a href=\"https://www.sympy.org/en/index.html?utm_medium=Exinfluencer&utm_source=Exinfluencer&utm_content=000026UJ&utm_term=10006555&utm_id=NA-SkillsNetwork-Channel-SkillsNetworkCoursesIBMML0187ENSkillsNetwork31430127-2022-01-01\">SymPy </a> for printing matrices\n"
   ]
  },
  {
   "cell_type": "code",
   "execution_count": 2,
   "metadata": {
    "tags": []
   },
   "outputs": [
    {
     "name": "stdout",
     "output_type": "stream",
     "text": [
      "Collecting package metadata (current_repodata.json): ...working... done\n",
      "Solving environment: ...working... done\n",
      "\n",
      "## Package Plan ##\n",
      "\n",
      "  environment location: T:\\Anaconda\n",
      "\n",
      "  added / updated specs:\n",
      "    - sympy\n",
      "\n",
      "\n",
      "The following packages will be downloaded:\n",
      "\n",
      "    package                    |            build\n",
      "    ---------------------------|-----------------\n",
      "    conda-23.1.0               |   py39haa95532_0         980 KB  anaconda\n",
      "    ------------------------------------------------------------\n",
      "                                           Total:         980 KB\n",
      "\n",
      "The following packages will be UPDATED:\n",
      "\n",
      "  conda              conda-forge::conda-22.11.1-py39hcbf53~ --> anaconda::conda-23.1.0-py39haa95532_0 \n",
      "\n",
      "\n",
      "\n",
      "Downloading and Extracting Packages\n",
      "\n",
      "conda-23.1.0         | 980 KB    |            |   0% \n",
      "conda-23.1.0         | 980 KB    | 1          |   2% \n",
      "conda-23.1.0         | 980 KB    | #3         |  13% \n",
      "conda-23.1.0         | 980 KB    | ##2        |  23% \n",
      "conda-23.1.0         | 980 KB    | ###2       |  33% \n",
      "conda-23.1.0         | 980 KB    | ####4      |  44% \n",
      "conda-23.1.0         | 980 KB    | #####3     |  54% \n",
      "conda-23.1.0         | 980 KB    | #######    |  70% \n",
      "conda-23.1.0         | 980 KB    | #########3 |  93% \n",
      "conda-23.1.0         | 980 KB    | ########## | 100% \n",
      "                                                     \n",
      "\n",
      "\n",
      "Preparing transaction: ...working... done\n",
      "Verifying transaction: ...working... done\n",
      "Executing transaction: ...working... done\n"
     ]
    }
   ],
   "source": [
    "!conda install -c anaconda sympy -y"
   ]
  },
  {
   "cell_type": "markdown",
   "metadata": {},
   "source": [
    "### Importing Required Libraries\n",
    "\n",
    "*We recommend you import all required libraries in one place (here):*\n"
   ]
  },
  {
   "cell_type": "code",
   "execution_count": 3,
   "metadata": {},
   "outputs": [],
   "source": [
    "# Surpress warnings:\n",
    "def warn(*args, **kwargs):\n",
    "    pass\n",
    "import warnings\n",
    "warnings.warn = warn"
   ]
  },
  {
   "cell_type": "code",
   "execution_count": 4,
   "metadata": {},
   "outputs": [],
   "source": [
    "import pandas as pd\n",
    "import numpy as np \n",
    "\n",
    "\n",
    "from os import listdir,getcwd\n",
    "from os.path import isfile, join\n",
    "from random import randint\n",
    "from PIL import Image\n",
    "\n",
    "import seaborn as sns \n",
    "import matplotlib.pylab as plt\n",
    "%matplotlib inline\n",
    "\n",
    "from sklearn.decomposition import PCA\n",
    "from sklearn.decomposition import TruncatedSVD\n",
    "\n",
    "\n",
    "from sympy import Matrix, init_printing,Symbol\n",
    "from numpy.linalg import qr,eig,inv,matrix_rank,inv,svd\n",
    "init_printing()"
   ]
  },
  {
   "cell_type": "markdown",
   "metadata": {},
   "source": [
    "### Defining Helper functions\n"
   ]
  },
  {
   "cell_type": "code",
   "execution_count": 5,
   "metadata": {},
   "outputs": [],
   "source": [
    "def get_data_Matrix (mypath=\"peds\"):\n",
    "    cwd = getcwd()\n",
    "\n",
    "    mypath=join(cwd,mypath)\n",
    "    files = [ join(mypath,f) for f in listdir(mypath) if isfile(join(mypath, f)) and f.startswith(\".\")==False]\n",
    "    # Read image\n",
    "    img = Image.open(files[0])\n",
    "    I=np.array(img)\n",
    "    # Output Images\n",
    "\n",
    "    Length,Width=I.shape\n",
    "   \n",
    "    X=np.zeros((len(files),Length*Width))\n",
    "    for i,file in enumerate(files):\n",
    "        img = Image.open(file)\n",
    "        I=np.array(img)\n",
    "        X[i,:]=I.reshape(1,-1)\n",
    "    return X,Length,Width"
   ]
  },
  {
   "cell_type": "markdown",
   "metadata": {},
   "source": [
    "## Singular Value Decomposition\n",
    "\n",
    "The Singular-Value Decomposition, or SVD for short, will decompose a real or complex $N × D$ matrix $\\mathbf{X}$ of rank $r$ as follows:\n"
   ]
  },
  {
   "cell_type": "markdown",
   "metadata": {},
   "source": [
    "$$\\mathbf{X}= \\mathbf {US V^{T}}$$\n"
   ]
  },
  {
   "cell_type": "markdown",
   "metadata": {},
   "source": [
    "In many applications  $N \\ge D$, but SVD can be used for any matrix $\\mathbf{X}$. For example, in computer vision and image processing tasks we sometimes have $D \\ge N$.\n"
   ]
  },
  {
   "cell_type": "markdown",
   "metadata": {},
   "source": [
    "The matrix $\\mathbf{S}$ contains the nonnegative <b>singular values</b> of $\\mathbf{X}$, with diagonal entries ${\\sigma \\_{i}}$ else $0$, the entries are ordered by importance in descending order with respect to $i$, i.e:\n",
    "\n",
    "$$\\sigma \\_{1}>\\sigma \\_{2},..>\\sigma \\_{r}$$\n"
   ]
  },
  {
   "cell_type": "markdown",
   "metadata": {},
   "source": [
    "The matrix $\\mathbf {U}$ is $NxD$ and  has the orthornormal columns  $\\mathbf{u}*{1}, ..., \\mathbf{u}*{D} $ called the <b>left singular vectors</b>.\n",
    "\n",
    "The matrix $\\mathbf {V}$ is $DxD$ and has the orthornormal columns $\\mathbf{v}*{1}, ..., \\mathbf{v}*{D}$ called the <b>right singular vectors</b>  (note  that $\\mathbf{V}$ transpose, $\\mathbf {V^{T}}$ is returned as output in numpy's `svd` function).\n"
   ]
  },
  {
   "cell_type": "markdown",
   "metadata": {},
   "source": [
    "SVD decomposition returns the full shape of a non-square matrix, the non colored  parts of the decomposition **N-D** terms in the matrix U are zeros, we see many of the squares are redundant.\n"
   ]
  },
  {
   "cell_type": "markdown",
   "metadata": {},
   "source": [
    "<img src=\"https://cf-courses-data.s3.us.cloud-object-storage.appdomain.cloud/IBM-ML0187EN-SkillsNetwork/labs/module%203/images/matrix.png\" width=\"600\" alt=\"full svd\"  />\n"
   ]
  },
  {
   "cell_type": "markdown",
   "metadata": {},
   "source": [
    "Consider the matrix $\\mathbf{X}$:\n"
   ]
  },
  {
   "cell_type": "code",
   "execution_count": 6,
   "metadata": {},
   "outputs": [
    {
     "data": {
      "text/latex": [
       "$\\displaystyle \\left[\\begin{matrix}1.0 & 2.0\\\\2.0 & 1.0\\\\3.0 & 3.0\\end{matrix}\\right]$"
      ],
      "text/plain": [
       "⎡1.0  2.0⎤\n",
       "⎢        ⎥\n",
       "⎢2.0  1.0⎥\n",
       "⎢        ⎥\n",
       "⎣3.0  3.0⎦"
      ]
     },
     "execution_count": 6,
     "metadata": {},
     "output_type": "execute_result"
    }
   ],
   "source": [
    "X=np.array([[1.0,2],[2,1],[3,3]])\n",
    "Matrix(X)"
   ]
  },
  {
   "cell_type": "markdown",
   "metadata": {},
   "source": [
    "We can perform SVD on any matrix in numpy by using the function `svd` from `numpy.linalg`:\n"
   ]
  },
  {
   "cell_type": "code",
   "execution_count": 7,
   "metadata": {},
   "outputs": [],
   "source": [
    "U, s, VT =svd(X, full_matrices=False)"
   ]
  },
  {
   "cell_type": "markdown",
   "metadata": {},
   "source": [
    "When $\\mathbf{X}$ is a 2D array, it is factorized as $U\\times np.diag(s)\\times V^T$, where $U$ and $V^T$ are 2D orthogonal  matrices  and $s$ is an 1D array of $\\mathbf{X}$'s singular values. When $\\mathbf{X}$ is higher-dimensional (such as sparse matrices), the parameter `full_matrices=False`, the skinny SVD is used and the zero elements are dropped. This can be summarized in the following image:\n"
   ]
  },
  {
   "cell_type": "markdown",
   "metadata": {},
   "source": [
    "<img src=\"https://cf-courses-data.s3.us.cloud-object-storage.appdomain.cloud/IBM-ML0187EN-SkillsNetwork/labs/module%203/images/skinny-SVD.png\" width=\"600\" alt=\"skinnysvd\" >\n"
   ]
  },
  {
   "cell_type": "markdown",
   "metadata": {},
   "source": [
    "We have the <b>left singular vectors</b> of $\\mathbf{X}$:\n"
   ]
  },
  {
   "cell_type": "code",
   "execution_count": 8,
   "metadata": {},
   "outputs": [
    {
     "data": {
      "text/latex": [
       "$\\displaystyle \\left[\\begin{matrix}-0.408248290463863 & 0.707106781186547\\\\-0.408248290463863 & -0.707106781186548\\\\-0.816496580927726 & 2.4980018054066 \\cdot 10^{-16}\\end{matrix}\\right]$"
      ],
      "text/plain": [
       "⎡-0.408248290463863   0.707106781186547 ⎤\n",
       "⎢                                       ⎥\n",
       "⎢-0.408248290463863  -0.707106781186548 ⎥\n",
       "⎢                                       ⎥\n",
       "⎣-0.816496580927726  2.4980018054066e-16⎦"
      ]
     },
     "execution_count": 8,
     "metadata": {},
     "output_type": "execute_result"
    }
   ],
   "source": [
    "Matrix(U)"
   ]
  },
  {
   "cell_type": "markdown",
   "metadata": {},
   "source": [
    "We have the <b>singular values</b> of $\\mathbf{X}$, as the output is an 1-D array we use the function `np.diag` to convert the output into a diagonal matrix:\n"
   ]
  },
  {
   "cell_type": "code",
   "execution_count": 9,
   "metadata": {},
   "outputs": [
    {
     "data": {
      "text/latex": [
       "$\\displaystyle \\left[\\begin{matrix}5.19615242270663 & 0\\\\0 & 1.0\\end{matrix}\\right]$"
      ],
      "text/plain": [
       "⎡5.19615242270663   0 ⎤\n",
       "⎢                     ⎥\n",
       "⎣       0          1.0⎦"
      ]
     },
     "execution_count": 9,
     "metadata": {},
     "output_type": "execute_result"
    }
   ],
   "source": [
    "S=np.diag(s)\n",
    "\n",
    "Matrix(S)"
   ]
  },
  {
   "cell_type": "markdown",
   "metadata": {},
   "source": [
    "Finally we have the <b>right singular vectors</b> of $\\mathbf{X}$, as the output is transposed they are the rows of matrix `VT`:\n"
   ]
  },
  {
   "cell_type": "code",
   "execution_count": 10,
   "metadata": {},
   "outputs": [
    {
     "data": {
      "text/latex": [
       "$\\displaystyle \\left[\\begin{matrix}-0.707106781186548 & -0.707106781186547\\\\-0.707106781186547 & 0.707106781186548\\end{matrix}\\right]$"
      ],
      "text/plain": [
       "⎡-0.707106781186548  -0.707106781186547⎤\n",
       "⎢                                      ⎥\n",
       "⎣-0.707106781186547  0.707106781186548 ⎦"
      ]
     },
     "execution_count": 10,
     "metadata": {},
     "output_type": "execute_result"
    }
   ],
   "source": [
    "Matrix(VT)"
   ]
  },
  {
   "cell_type": "markdown",
   "metadata": {},
   "source": [
    "We can reconstruct the matrix $\\mathbf{X}$:\n"
   ]
  },
  {
   "cell_type": "code",
   "execution_count": 11,
   "metadata": {},
   "outputs": [
    {
     "data": {
      "text/latex": [
       "$\\displaystyle \\left[\\begin{matrix}1.0 & 2.0\\\\2.0 & 1.0\\\\3.0 & 3.0\\end{matrix}\\right]$"
      ],
      "text/plain": [
       "⎡1.0  2.0⎤\n",
       "⎢        ⎥\n",
       "⎢2.0  1.0⎥\n",
       "⎢        ⎥\n",
       "⎣3.0  3.0⎦"
      ]
     },
     "execution_count": 11,
     "metadata": {},
     "output_type": "execute_result"
    }
   ],
   "source": [
    "X_=U@S@VT\n",
    "X_=np.round(X_)\n",
    "Matrix(X_)"
   ]
  },
  {
   "cell_type": "markdown",
   "metadata": {},
   "source": [
    "It may be more intuitive if you think of SVD reconstructing the matrix as a linear combination of $r$ rank-1 matrices and the associated singular values ($r$ is the rank of $\\mathbf{X}$):\n"
   ]
  },
  {
   "cell_type": "markdown",
   "metadata": {},
   "source": [
    "$$\\mathbf{X}=\\sum\\_{i=1}^{r}\\sigma_i\\mathbf{u}\\_i\\mathbf{v}\\_i^{T}$$\n"
   ]
  },
  {
   "cell_type": "code",
   "execution_count": 12,
   "metadata": {},
   "outputs": [
    {
     "data": {
      "text/latex": [
       "$\\displaystyle \\left[\\begin{matrix}1.0 & 2.0\\\\2.0 & 0.999999999999999\\\\3.0 & 3.0\\end{matrix}\\right]$"
      ],
      "text/plain": [
       "⎡1.0         2.0       ⎤\n",
       "⎢                      ⎥\n",
       "⎢2.0  0.999999999999999⎥\n",
       "⎢                      ⎥\n",
       "⎣3.0         3.0       ⎦"
      ]
     },
     "execution_count": 12,
     "metadata": {},
     "output_type": "execute_result"
    }
   ],
   "source": [
    "X_2=s[0]*U[:,0:1]@VT[0:1,:]+s[1]*U[:,1:2]@VT[1:2,:]\n",
    "Matrix(X_2)"
   ]
  },
  {
   "cell_type": "markdown",
   "metadata": {},
   "source": [
    "The same matrix is returned!\n"
   ]
  },
  {
   "cell_type": "markdown",
   "metadata": {},
   "source": [
    "## Truncated SVD\n"
   ]
  },
  {
   "cell_type": "markdown",
   "metadata": {},
   "source": [
    "A singular value $\\sigma_i$ can be thought of as a measure of redundancy of a rank-1 matrix produced by $\\mathbf{u}\\_i\\mathbf{v}\\_i^T$. A smaller $\\sigma_i$ means the associated rank-1 matrix, which can be interpreted as one \"ingredient\" of $\\mathbf{X}$, is of less importance in terms of the amount of variance/information it preserves.\n",
    "\n",
    "As the information contained by the matrix becomes less important or redundant, its corresponding singular value $\\sigma_i$ approaches zero. If we just keep the most important \"ingredients\" of $\\mathbf{X}$, we can approximate $\\mathbf{X}$ by a weighted sum of $L$ rank-1 matrices where  $L\\<r$:\n"
   ]
  },
  {
   "cell_type": "markdown",
   "metadata": {},
   "source": [
    "$$\\mathbf{X}\\approx\\sum\\_{i=1}^{L}\\sigma_i\\mathbf{u}\\_i\\mathbf{v}\\_i^{T}$$\n"
   ]
  },
  {
   "cell_type": "markdown",
   "metadata": {},
   "source": [
    "Consider the following matrix, the columns are almost linearly independent:\n"
   ]
  },
  {
   "cell_type": "code",
   "execution_count": 13,
   "metadata": {},
   "outputs": [
    {
     "data": {
      "text/latex": [
       "$\\displaystyle \\left[\\begin{matrix}1.0 & 2.0\\\\2.0 & 4.0\\\\4.0 & 8.0001\\end{matrix}\\right]$"
      ],
      "text/plain": [
       "⎡1.0   2.0  ⎤\n",
       "⎢           ⎥\n",
       "⎢2.0   4.0  ⎥\n",
       "⎢           ⎥\n",
       "⎣4.0  8.0001⎦"
      ]
     },
     "execution_count": 13,
     "metadata": {},
     "output_type": "execute_result"
    }
   ],
   "source": [
    "X=np.array([[1,2],[2,4],[4,8.0001]])\n",
    "Matrix(X)"
   ]
  },
  {
   "cell_type": "markdown",
   "metadata": {},
   "source": [
    "We perform SVD:\n"
   ]
  },
  {
   "cell_type": "code",
   "execution_count": 14,
   "metadata": {},
   "outputs": [
    {
     "data": {
      "text/latex": [
       "$\\displaystyle \\left[\\begin{matrix}10.2470288381327 & 0\\\\0 & 2.18216227635671 \\cdot 10^{-5}\\end{matrix}\\right]$"
      ],
      "text/plain": [
       "⎡10.2470288381327           0         ⎤\n",
       "⎢                                     ⎥\n",
       "⎣       0          2.18216227635671e-5⎦"
      ]
     },
     "execution_count": 14,
     "metadata": {},
     "output_type": "execute_result"
    }
   ],
   "source": [
    "U, s, VT =svd(X, full_matrices=False)\n",
    "S=np.diag(s)\n",
    "Matrix(S)"
   ]
  },
  {
   "cell_type": "markdown",
   "metadata": {},
   "source": [
    "We see the first rank-1 matrix is almost identical to the Matrix:\n"
   ]
  },
  {
   "cell_type": "code",
   "execution_count": 15,
   "metadata": {},
   "outputs": [
    {
     "data": {
      "text/latex": [
       "$\\displaystyle \\left[\\begin{matrix}1.0 & 2.0\\\\2.0 & 4.0\\\\4.0 & 8.0\\end{matrix}\\right]$"
      ],
      "text/plain": [
       "⎡1.0  2.0⎤\n",
       "⎢        ⎥\n",
       "⎢2.0  4.0⎥\n",
       "⎢        ⎥\n",
       "⎣4.0  8.0⎦"
      ]
     },
     "execution_count": 15,
     "metadata": {},
     "output_type": "execute_result"
    }
   ],
   "source": [
    "X_hat=np.round(s[0]*U[:,0:1]@VT[0:1,:])\n",
    "Matrix(X_hat)"
   ]
  },
  {
   "cell_type": "markdown",
   "metadata": {},
   "source": [
    "Instead of adding the rank-1 matrices, we can achieve the same result with matrix multiplications. Select the top $L$ singular values, top $L$ left and right singular vectors, we can approximate $\\mathbf{X}$ by:\n"
   ]
  },
  {
   "cell_type": "markdown",
   "metadata": {},
   "source": [
    "$$\\mathbf{X} \\approx \\mathbf{U}*{:,1:L} \\mathbf{S}*{1:L,1:L} \\mathbf{V}\\_{1:L,:}^{T}$$\n"
   ]
  },
  {
   "cell_type": "markdown",
   "metadata": {},
   "source": [
    "Summarized in the following image:\n"
   ]
  },
  {
   "cell_type": "markdown",
   "metadata": {},
   "source": [
    "<img src=\"https://cf-courses-data.s3.us.cloud-object-storage.appdomain.cloud/IBM-ML0187EN-SkillsNetwork/labs/module%203/images/trunked_-svd.png\" width=\"600\" alt=\"skinnysvd\" >\n"
   ]
  },
  {
   "cell_type": "markdown",
   "metadata": {},
   "source": [
    "We can code the values in numpy:\n"
   ]
  },
  {
   "cell_type": "code",
   "execution_count": 16,
   "metadata": {},
   "outputs": [
    {
     "data": {
      "text/latex": [
       "$\\displaystyle \\left[\\begin{matrix}0.999992380977777 & 2.00000380947483\\\\1.99998476195556 & 4.00000761894966\\\\4.00000952368254 & 8.00009523820408\\end{matrix}\\right]$"
      ],
      "text/plain": [
       "⎡0.999992380977777  2.00000380947483⎤\n",
       "⎢                                   ⎥\n",
       "⎢1.99998476195556   4.00000761894966⎥\n",
       "⎢                                   ⎥\n",
       "⎣4.00000952368254   8.00009523820408⎦"
      ]
     },
     "execution_count": 16,
     "metadata": {},
     "output_type": "execute_result"
    }
   ],
   "source": [
    "L=1\n",
    "Xhat=U[:,:L]@S[0:L,0:L]@VT[:L,:]\n",
    "Matrix(Xhat)"
   ]
  },
  {
   "cell_type": "markdown",
   "metadata": {},
   "source": [
    "We can use the singular values to determine the reconstruction error, similar to the **cumulative explained variance**, we will go into the exact relationship later. The term is given by:\n"
   ]
  },
  {
   "cell_type": "markdown",
   "metadata": {},
   "source": [
    "$$C(L)=\\dfrac{\\sum\\_{i=1}^{L}\\sigma_i}{\\sum\\_{i=1}^{r}\\sigma_i}$$\n"
   ]
  },
  {
   "cell_type": "code",
   "execution_count": 17,
   "metadata": {},
   "outputs": [
    {
     "name": "stdout",
     "output_type": "stream",
     "text": [
      "With 1 singular value and its corresponding singular vectors, [0.99999787] variance of X is explained\n"
     ]
    }
   ],
   "source": [
    "print(f\"With {L} singular value and its corresponding singular vectors, {s[0:L]/s.sum()} variance of X is explained\")"
   ]
  },
  {
   "cell_type": "markdown",
   "metadata": {},
   "source": [
    "We can plot the **cumulative explained variance** as a function of $L$ (the number of singular values chosen).\n"
   ]
  },
  {
   "cell_type": "code",
   "execution_count": 18,
   "metadata": {},
   "outputs": [
    {
     "data": {
      "image/png": "[encoded data removed]",
      "text/plain": [
       "<Figure size 640x480 with 1 Axes>"
      ]
     },
     "metadata": {},
     "output_type": "display_data"
    }
   ],
   "source": [
    "plt.figure()\n",
    "plt.plot(np.cumsum(s)/s.sum())\n",
    "plt.xlabel('L')\n",
    "plt.title('Cumulative explained singular value')\n",
    "plt.tight_layout()\n",
    "plt.show()"
   ]
  },
  {
   "cell_type": "markdown",
   "metadata": {},
   "source": [
    "### Truncated SVD in Sklearn\n"
   ]
  },
  {
   "cell_type": "markdown",
   "metadata": {},
   "source": [
    "Truncated SVD  performs **linear  PCA**, a method of dimensionality reduction. Contrary to PCA, this estimator does not center the data before computing the singular value decomposition. This means it can work with sparse matrices efficiently. We will explore the relationship between PCA and SVD later on.\n",
    "\n",
    "Some important parameters in `sklearn.decomposition.TruncatedSVD` that are worth noting:\n",
    "\n",
    "*   `n_components`: int, default=2; Desired dimensionality of output data. If algorithm=’arpack’, must be strictly less than the number of features. If algorithm=’randomized’, must be less than or equal to the number of features. The default value is useful for visualisation.\n",
    "\n",
    "*   `algorithm`: {‘arpack’, ‘randomized’}, default=’randomized’; SVD solver to use. Either “arpack” for the ARPACK wrapper in SciPy (scipy.sparse.linalg.svds), or “randomized” for the randomized algorithm due to [Halko (2009)](https://arxiv.org/abs/0909.4061?utm_medium=Exinfluencer&utm_source=Exinfluencer&utm_content=000026UJ&utm_term=10006555&utm_id=NA-SkillsNetwork-Channel-SkillsNetworkCoursesIBMML0187ENSkillsNetwork31430127-2022-01-01).\n",
    "\n",
    "*   `n_iter`: int, default=5; Number of iterations for randomized SVD solver. Not used by ARPACK. The default is larger than the default in [randomized_svd](https://scikit-learn.org/stable/modules/generated/sklearn.utils.extmath.randomized_svd.html?utm_medium=Exinfluencer&utm_source=Exinfluencer&utm_content=000026UJ&utm_term=10006555&utm_id=NA-SkillsNetwork-Channel-SkillsNetworkCoursesIBMML0187ENSkillsNetwork31430127-2022-01-01#sklearn.utils.extmath.randomized_svd) to handle sparse matrices that may have large slowly decaying spectrum.\n",
    "\n",
    "*Read more in the scikit-learn documentation of [TruncatedSVD](https://scikit-learn.org/stable/modules/generated/sklearn.decomposition.TruncatedSVD.html?utm_medium=Exinfluencer&utm_source=Exinfluencer&utm_content=000026UJ&utm_term=10006555&utm_id=NA-SkillsNetwork-Channel-SkillsNetworkCoursesIBMML0187ENSkillsNetwork31430127-2022-01-01).*\n"
   ]
  },
  {
   "cell_type": "markdown",
   "metadata": {},
   "source": [
    "First we create a `TruncatedSVD` object setting `n_components=1` this is analogous to `L=1` :\n"
   ]
  },
  {
   "cell_type": "code",
   "execution_count": 19,
   "metadata": {},
   "outputs": [],
   "source": [
    "svd_ = TruncatedSVD(n_components=1, random_state=42)"
   ]
  },
  {
   "cell_type": "markdown",
   "metadata": {},
   "source": [
    "`fit_transform`  behaves like the projections onto the principle components\n"
   ]
  },
  {
   "cell_type": "code",
   "execution_count": 20,
   "metadata": {},
   "outputs": [
    {
     "data": {
      "text/plain": [
       "array([[2.23606798],\n",
       "       [4.47213595],\n",
       "       [8.94436135]])"
      ]
     },
     "execution_count": 20,
     "metadata": {},
     "output_type": "execute_result"
    }
   ],
   "source": [
    "Z=svd_.fit_transform(X)\n",
    "Z"
   ]
  },
  {
   "cell_type": "markdown",
   "metadata": {},
   "source": [
    "With `inverse_transform`, we can find the approximation of the original $X$:\n"
   ]
  },
  {
   "cell_type": "code",
   "execution_count": 21,
   "metadata": {},
   "outputs": [
    {
     "data": {
      "text/latex": [
       "$\\displaystyle \\left[\\begin{matrix}1.0 & 2.0\\\\2.0 & 4.0\\\\4.0 & 8.0\\end{matrix}\\right]$"
      ],
      "text/plain": [
       "⎡1.0  2.0⎤\n",
       "⎢        ⎥\n",
       "⎢2.0  4.0⎥\n",
       "⎢        ⎥\n",
       "⎣4.0  8.0⎦"
      ]
     },
     "execution_count": 21,
     "metadata": {},
     "output_type": "execute_result"
    }
   ],
   "source": [
    "Xhat=svd_.inverse_transform(Z)\n",
    "Matrix(np.round(Xhat))"
   ]
  },
  {
   "cell_type": "markdown",
   "metadata": {},
   "source": [
    "### Background Model using SVD\n"
   ]
  },
  {
   "cell_type": "markdown",
   "metadata": {},
   "source": [
    "In this section you will use SVD for developing a Background Model.\n",
    "\n",
    "Background subtraction is a widely used approach to detect moving objects in a sequence of frames from static cameras. The base in this approach is detecting moving objects from the differences between the current frame and reference frame, which is often called 'Background Image' or 'Background Model'.\n",
    "\n",
    "The function `get_data_Matrix`  will create a Design  matrix `X` where each row corresponds to a flattened image of a sidewalk with pedestrians recorded by a camera.\n",
    "\n",
    "`Length` and `Width` are the rectangular dimensions of the image. We will use SVD to remove the pedestrians:\n"
   ]
  },
  {
   "cell_type": "code",
   "execution_count": 22,
   "metadata": {
    "tags": []
   },
   "outputs": [
    {
     "ename": "FileNotFoundError",
     "evalue": "[WinError 3] The system cannot find the path specified: 'K:\\\\LEARN AI FPT\\\\PROJECTS\\\\MÔN KHOA HỌC DỮ LIỆU\\\\AIL303m_Machine Learning\\\\peds'",
     "output_type": "error",
     "traceback": [
      "\u001b[1;31m---------------------------------------------------------------------------\u001b[0m",
      "\u001b[1;31mFileNotFoundError\u001b[0m                         Traceback (most recent call last)",
      "\u001b[1;32m~\\AppData\\Local\\Temp\\ipykernel_13624\\1523088275.py\u001b[0m in \u001b[0;36m<module>\u001b[1;34m\u001b[0m\n\u001b[1;32m----> 1\u001b[1;33m \u001b[0mX\u001b[0m\u001b[1;33m,\u001b[0m\u001b[0mLength\u001b[0m\u001b[1;33m,\u001b[0m\u001b[0mWidth\u001b[0m\u001b[1;33m=\u001b[0m\u001b[0mget_data_Matrix\u001b[0m\u001b[1;33m(\u001b[0m\u001b[0mmypath\u001b[0m\u001b[1;33m=\u001b[0m\u001b[1;34m\"peds\"\u001b[0m\u001b[1;33m)\u001b[0m\u001b[1;33m\u001b[0m\u001b[1;33m\u001b[0m\u001b[0m\n\u001b[0m",
      "\u001b[1;32m~\\AppData\\Local\\Temp\\ipykernel_13624\\1421578718.py\u001b[0m in \u001b[0;36mget_data_Matrix\u001b[1;34m(mypath)\u001b[0m\n\u001b[0;32m      3\u001b[0m \u001b[1;33m\u001b[0m\u001b[0m\n\u001b[0;32m      4\u001b[0m     \u001b[0mmypath\u001b[0m\u001b[1;33m=\u001b[0m\u001b[0mjoin\u001b[0m\u001b[1;33m(\u001b[0m\u001b[0mcwd\u001b[0m\u001b[1;33m,\u001b[0m\u001b[0mmypath\u001b[0m\u001b[1;33m)\u001b[0m\u001b[1;33m\u001b[0m\u001b[1;33m\u001b[0m\u001b[0m\n\u001b[1;32m----> 5\u001b[1;33m     \u001b[0mfiles\u001b[0m \u001b[1;33m=\u001b[0m \u001b[1;33m[\u001b[0m \u001b[0mjoin\u001b[0m\u001b[1;33m(\u001b[0m\u001b[0mmypath\u001b[0m\u001b[1;33m,\u001b[0m\u001b[0mf\u001b[0m\u001b[1;33m)\u001b[0m \u001b[1;32mfor\u001b[0m \u001b[0mf\u001b[0m \u001b[1;32min\u001b[0m \u001b[0mlistdir\u001b[0m\u001b[1;33m(\u001b[0m\u001b[0mmypath\u001b[0m\u001b[1;33m)\u001b[0m \u001b[1;32mif\u001b[0m \u001b[0misfile\u001b[0m\u001b[1;33m(\u001b[0m\u001b[0mjoin\u001b[0m\u001b[1;33m(\u001b[0m\u001b[0mmypath\u001b[0m\u001b[1;33m,\u001b[0m \u001b[0mf\u001b[0m\u001b[1;33m)\u001b[0m\u001b[1;33m)\u001b[0m \u001b[1;32mand\u001b[0m \u001b[0mf\u001b[0m\u001b[1;33m.\u001b[0m\u001b[0mstartswith\u001b[0m\u001b[1;33m(\u001b[0m\u001b[1;34m\".\"\u001b[0m\u001b[1;33m)\u001b[0m\u001b[1;33m==\u001b[0m\u001b[1;32mFalse\u001b[0m\u001b[1;33m]\u001b[0m\u001b[1;33m\u001b[0m\u001b[1;33m\u001b[0m\u001b[0m\n\u001b[0m\u001b[0;32m      6\u001b[0m     \u001b[1;31m# Read image\u001b[0m\u001b[1;33m\u001b[0m\u001b[1;33m\u001b[0m\u001b[0m\n\u001b[0;32m      7\u001b[0m     \u001b[0mimg\u001b[0m \u001b[1;33m=\u001b[0m \u001b[0mImage\u001b[0m\u001b[1;33m.\u001b[0m\u001b[0mopen\u001b[0m\u001b[1;33m(\u001b[0m\u001b[0mfiles\u001b[0m\u001b[1;33m[\u001b[0m\u001b[1;36m0\u001b[0m\u001b[1;33m]\u001b[0m\u001b[1;33m)\u001b[0m\u001b[1;33m\u001b[0m\u001b[1;33m\u001b[0m\u001b[0m\n",
      "\u001b[1;31mFileNotFoundError\u001b[0m: [WinError 3] The system cannot find the path specified: 'K:\\\\LEARN AI FPT\\\\PROJECTS\\\\MÔN KHOA HỌC DỮ LIỆU\\\\AIL303m_Machine Learning\\\\peds'"
     ]
    }
   ],
   "source": [
    "X,Length,Width=get_data_Matrix(mypath=\"peds\")"
   ]
  },
  {
   "cell_type": "markdown",
   "metadata": {},
   "source": [
    "There are 170 images in the dataset and each is $152\\times 232$ (32654 pixels).\n"
   ]
  },
  {
   "cell_type": "code",
   "execution_count": null,
   "metadata": {},
   "outputs": [],
   "source": [
    "X.shape, Length, Width"
   ]
  },
  {
   "cell_type": "markdown",
   "metadata": {},
   "source": [
    "We can plot five random images from the matrix:\n"
   ]
  },
  {
   "cell_type": "code",
   "execution_count": null,
   "metadata": {},
   "outputs": [],
   "source": [
    "for i in range(5):\n",
    "    frame=randint(0, X.shape[0]-1)\n",
    "    plt.imshow(X[randint(0, X.shape[0]-1),:].reshape(Length,Width),cmap=\"gray\")\n",
    "    plt.title(\"frame: \"+str(frame))\n",
    "    plt.show()"
   ]
  },
  {
   "cell_type": "markdown",
   "metadata": {},
   "source": [
    "We perform SVD on the images:\n"
   ]
  },
  {
   "cell_type": "code",
   "execution_count": null,
   "metadata": {},
   "outputs": [],
   "source": [
    "U, s, VT =svd(X, full_matrices=False)"
   ]
  },
  {
   "cell_type": "code",
   "execution_count": null,
   "metadata": {},
   "outputs": [],
   "source": [
    "S=np.diag(s)"
   ]
  },
  {
   "cell_type": "markdown",
   "metadata": {},
   "source": [
    "We can reconstruct the image using Truncated SVD with `L=1` and assign the result to to `Xhat`:\n"
   ]
  },
  {
   "cell_type": "code",
   "execution_count": null,
   "metadata": {},
   "outputs": [],
   "source": [
    "L=1\n",
    "Xhat=U[:,:L]@S[0:L,0:L]@VT[:L,:]"
   ]
  },
  {
   "cell_type": "markdown",
   "metadata": {},
   "source": [
    "If we plot the first image, we will see the pedestrians are gone:\n"
   ]
  },
  {
   "cell_type": "code",
   "execution_count": null,
   "metadata": {},
   "outputs": [],
   "source": [
    "plt.imshow(Xhat[0,:].reshape(Length,Width),cmap=\"gray\")\n",
    "plt.title('Truncated SVD L=1')\n",
    "plt.show()"
   ]
  },
  {
   "cell_type": "markdown",
   "metadata": {},
   "source": [
    "## Exercises\n"
   ]
  },
  {
   "cell_type": "markdown",
   "metadata": {},
   "source": [
    "### Exercise 1\n",
    "\n",
    "Reshape the 5 random rows of `Xhat` and plot them as images.\n"
   ]
  },
  {
   "cell_type": "code",
   "execution_count": null,
   "metadata": {},
   "outputs": [],
   "source": [
    "# TODO"
   ]
  },
  {
   "cell_type": "markdown",
   "metadata": {},
   "source": [
    "<details>\n",
    "    <summary>Click here for Solution</summary>\n",
    "\n",
    "```python\n",
    "for i in range(5):\n",
    "    frame=randint(0, X.shape[0]-1)\n",
    "    plt.imshow(Xhat[randint(0, X.shape[0]-1),:].reshape(Length,Width),cmap=\"gray\")\n",
    "    plt.title(\"frame: \"+str(frame))\n",
    "    plt.show()\n",
    "```\n",
    "\n",
    "</details>\n"
   ]
  },
  {
   "cell_type": "markdown",
   "metadata": {},
   "source": [
    "From the exercise above that the rows of the matrix `Xhat` are all similar . The `L` determines the reconstruction properties.\n"
   ]
  },
  {
   "cell_type": "markdown",
   "metadata": {},
   "source": [
    "### Exercise 2\n",
    "\n",
    "Plot the Cumulative explained variance against the number of singular values $L$.\n"
   ]
  },
  {
   "cell_type": "code",
   "execution_count": null,
   "metadata": {},
   "outputs": [],
   "source": [
    "#TODO"
   ]
  },
  {
   "cell_type": "markdown",
   "metadata": {},
   "source": [
    "<details>\n",
    "    <summary>Click here for Solution</summary>\n",
    "\n",
    "```python\n",
    "plt.plot(np.cumsum(s)/s.sum())\n",
    "plt.xlabel('L')\n",
    "plt.title('Cumulative explained  singular value')\n",
    "plt.show()\n",
    "```\n",
    "\n",
    "</details>\n"
   ]
  },
  {
   "cell_type": "markdown",
   "metadata": {},
   "source": [
    "### Exercise 3\n",
    "\n",
    "Perform Truncated SVD with `L=10` and plot 5 random rows of Xhat.\n"
   ]
  },
  {
   "cell_type": "code",
   "execution_count": null,
   "metadata": {},
   "outputs": [],
   "source": [
    "#TODO"
   ]
  },
  {
   "cell_type": "markdown",
   "metadata": {},
   "source": [
    "<details>\n",
    "    <summary>Click here for Solution</summary>\n",
    "\n",
    "```python\n",
    "L=10\n",
    "Xhat=U[:,:L]@S[0:L,0:L]@VT[:L,:]\n",
    "for i in range(5):\n",
    "    frame=randint(0, X.shape[0]-1)\n",
    "    plt.imshow(Xhat[randint(0, X.shape[0]-1),:].reshape(Length,Width),cmap=\"gray\")\n",
    "    plt.title(\"frame: \"+str(frame))\n",
    "    plt.show()\n",
    "```\n",
    "\n",
    "</details>\n"
   ]
  },
  {
   "cell_type": "markdown",
   "metadata": {},
   "source": [
    "### Exercise 4\n",
    "\n",
    "Apply   `get_data_Matrix` with `mypath=\"boats\"`, plot 5 random boat images. Then perform Truncated SVD using the function `svd` with  L=1 and plot the first row of `Xhat` as an image.\n"
   ]
  },
  {
   "cell_type": "code",
   "execution_count": null,
   "metadata": {},
   "outputs": [],
   "source": [
    "#TODO"
   ]
  },
  {
   "cell_type": "markdown",
   "metadata": {},
   "source": [
    "<details>\n",
    "    <summary>Click here for Solution</summary>\n",
    "\n",
    "```python\n",
    "X,Length,Width=get_data_Matrix (mypath=\"boats\")\n",
    "\n",
    "for i in range(5):\n",
    "    frame=randint(0, X.shape[0]-1)\n",
    "    plt.imshow(X[randint(0, X.shape[0]-1),:].reshape(Length,Width),cmap=\"gray\")\n",
    "    plt.title(\"frame: \"+str(frame))\n",
    "    plt.show()\n",
    "    \n",
    "U, s, VT =svd(X, full_matrices=False)\n",
    "L=1\n",
    "Xhat=U[:,:L]@S[0:L,0:L]@VT[:L,:]\n",
    "\n",
    "plt.imshow(Xhat[0,:].reshape(Length,Width),cmap=\"gray\")\n",
    "plt.title('Truncated SVD L=1')\n",
    "\n",
    "plt.show()\n",
    "```\n",
    "\n",
    "</details>\n"
   ]
  },
  {
   "cell_type": "markdown",
   "metadata": {},
   "source": [
    "### Exercise 5\n",
    "\n",
    "Apply   `get_data_Matrix` with `mypath=\"traffic\"`, plot 5 random images. Then perform Truncated SVD  using `TruncatedSVD` with `n_components=1` and plot the first row of `Xhat` as an image.\n"
   ]
  },
  {
   "cell_type": "code",
   "execution_count": null,
   "metadata": {},
   "outputs": [],
   "source": [
    "#TODO"
   ]
  },
  {
   "cell_type": "markdown",
   "metadata": {},
   "source": [
    "<details>\n",
    "    <summary>Click here for Solution</summary>\n",
    "\n",
    "```python\n",
    "X,Length,Width=get_data_Matrix (mypath=\"traffic\")\n",
    "\n",
    "for i in range(5):\n",
    "    frame=randint(0, X.shape[0]-1)\n",
    "    plt.imshow(X[randint(0, X.shape[0]-1),:].reshape(Length,Width),cmap=\"gray\")\n",
    "    plt.title(\"frame: \"+str(frame))\n",
    "    plt.show()\n",
    "    \n",
    "svd_ = TruncatedSVD(n_components=1, n_iter=7, random_state=42)\n",
    "score=svd_.fit_transform(X)\n",
    "Xhat=svd_.inverse_transform(score)\n",
    "plt.imshow(Xhat[0,:].reshape(Length,Width),cmap=\"gray\")\n",
    "plt.imshow(Xhat[0,:].reshape(Length,Width),cmap=\"gray\")\n",
    "plt.title('Truncated SVD L=1')\n",
    "\n",
    "plt.show()\n",
    "plt.show()\n",
    "\n",
    "```\n",
    "\n",
    "</details>\n"
   ]
  },
  {
   "cell_type": "markdown",
   "metadata": {},
   "source": [
    "## SVD from Scratch (optional)\n"
   ]
  },
  {
   "cell_type": "markdown",
   "metadata": {},
   "source": [
    "There are several ways to derive SVD, let's do one that is simple to code and related to PCA. We have the SVD factorization:\n"
   ]
  },
  {
   "cell_type": "markdown",
   "metadata": {},
   "source": [
    "$$\\mathbf{X}= \\mathbf {US V^{T}}$$\n"
   ]
  },
  {
   "cell_type": "code",
   "execution_count": null,
   "metadata": {},
   "outputs": [],
   "source": [
    "X=np.array([[1,2],[2,4],[4,8]])\n",
    "Matrix(X)"
   ]
  },
  {
   "cell_type": "markdown",
   "metadata": {},
   "source": [
    "From the last section you recall that $DxD$  matrix $\\mathbf{C}$   is a symmetric matrix, this is almost  the same matrix used in PCA if we can scale the covariance matrix by $N$ and obtain the eigenvalues and eigenvectors (eigenvectors have unit norm so multiplying constant will not effect them):\n"
   ]
  },
  {
   "cell_type": "markdown",
   "metadata": {},
   "source": [
    "$$\\mathbf{C'}=\\mathbf{X}^T \\mathbf{X}=\\mathbf{V}\\mathbf{\\Lambda}\\mathbf{V}^{T}$$\n"
   ]
  },
  {
   "cell_type": "markdown",
   "metadata": {},
   "source": [
    "The $\\mathbf{V}$ is the same as the right singular vectors, in Python we can evaluate `V` as follows:\n"
   ]
  },
  {
   "cell_type": "code",
   "execution_count": null,
   "metadata": {},
   "outputs": [],
   "source": [
    "C=X.T@X\n",
    "eigen_vectors1 , V=eig(C)\n",
    "Matrix(V)"
   ]
  },
  {
   "cell_type": "markdown",
   "metadata": {},
   "source": [
    "We can also perform the same decomposition with the Gram matrix:\n"
   ]
  },
  {
   "cell_type": "markdown",
   "metadata": {},
   "source": [
    "$G=\\mathbf{X} \\mathbf{X}^T= \\mathbf{U \\Lambda U^{T}}$\n"
   ]
  },
  {
   "cell_type": "markdown",
   "metadata": {},
   "source": [
    "Where $\\mathbf{U}$ are the the right singular vectors\n"
   ]
  },
  {
   "cell_type": "code",
   "execution_count": null,
   "metadata": {},
   "outputs": [],
   "source": [
    "G=X@X.T\n",
    "eigen_vectors2 , U=eig(G)\n",
    "Matrix(U)"
   ]
  },
  {
   "cell_type": "markdown",
   "metadata": {},
   "source": [
    "There are several way to obtains the singular values as we know  $\\mathbf{X}= \\mathbf {USV^{T}}$. With some algebra we know that $\\mathbf{S}=\\mathbf{U^TXV}$\n"
   ]
  },
  {
   "cell_type": "code",
   "execution_count": null,
   "metadata": {},
   "outputs": [],
   "source": [
    "S=np.round((U.T@X@V))\n",
    "Matrix(S)"
   ]
  },
  {
   "cell_type": "markdown",
   "metadata": {},
   "source": [
    "Singular values are not in descending order, and the shape difference is because this is not the economy-size decomposition.\n",
    "Now that we have all the components, we can reconstruct the matrix:\n"
   ]
  },
  {
   "cell_type": "code",
   "execution_count": null,
   "metadata": {},
   "outputs": [],
   "source": [
    "X_=np.round(U@S@V.T)\n",
    "Matrix(X_)"
   ]
  },
  {
   "cell_type": "markdown",
   "metadata": {},
   "source": [
    "## Relationship between SVD and PCA (optional)\n"
   ]
  },
  {
   "cell_type": "markdown",
   "metadata": {},
   "source": [
    "In the section above we derived SVD. Let's use this to better understand how SVD and PCA are almost the same. Let's use the following dateset:\n"
   ]
  },
  {
   "cell_type": "code",
   "execution_count": null,
   "metadata": {},
   "outputs": [],
   "source": [
    "N=200\n",
    "u=np.array([[1.0,1.0],[0.10,-0.10]])/(2)**(0.5)\n",
    "X_=np.dot(4*np.random.randn(N,2),u)+10\n",
    "X=X_-X_.mean(axis=0)"
   ]
  },
  {
   "cell_type": "markdown",
   "metadata": {},
   "source": [
    "Let's compare SVD to sklearn's PCA  setting `n_components=1`\n"
   ]
  },
  {
   "cell_type": "code",
   "execution_count": null,
   "metadata": {},
   "outputs": [],
   "source": [
    "U, s, VT =svd(X, full_matrices=False)"
   ]
  },
  {
   "cell_type": "code",
   "execution_count": null,
   "metadata": {},
   "outputs": [],
   "source": [
    "pca = PCA(n_components=1)\n",
    "projection=pca.fit_transform(X)\n",
    "X_sklearn=pca.inverse_transform(projection)"
   ]
  },
  {
   "cell_type": "markdown",
   "metadata": {},
   "source": [
    "As $\\mathbf{V}$ are the principal components, the projections on the principal components can be found by multiplying $\\mathbf{X}$ and $\\mathbf{V}$, if we want the projection on the first principal components, we can take the row of $\\mathbf{V}$ with the largest Singular-Value Value and compare it to scikit-learn's. We see the result is identical:\n"
   ]
  },
  {
   "cell_type": "code",
   "execution_count": null,
   "metadata": {},
   "outputs": [],
   "source": [
    "projection_=X@VT[0,:]\n",
    "print (\"error SVD vs scikit-learn's PCA\",(projection_-projection).sum()) "
   ]
  },
  {
   "cell_type": "markdown",
   "metadata": {},
   "source": [
    "We can also find the projections using  $\\mathbf{XV}= \\mathbf {US}$. Here we find the projection on the first principal component to compare to scikit-learn's\n"
   ]
  },
  {
   "cell_type": "code",
   "execution_count": null,
   "metadata": {},
   "outputs": [],
   "source": [
    "projection_=U@np.diag(s)[:,0]\n",
    "print (\"error SVD vs scikit-learn's PCA\",(projection_-projection).sum()) "
   ]
  },
  {
   "cell_type": "markdown",
   "metadata": {},
   "source": [
    "The inverse transform on the first  principal component is simply the low rank approximation:\n"
   ]
  },
  {
   "cell_type": "code",
   "execution_count": null,
   "metadata": {},
   "outputs": [],
   "source": [
    "L=1\n",
    "Xhat=U[:,:L]@np.diag(s[0:L])@VT[:L,:] # resconstruct X\n",
    "print (\"error SVD vs scikit-learn's PCA\",((Xhat-X_sklearn)**2).sum()) "
   ]
  },
  {
   "cell_type": "markdown",
   "metadata": {},
   "source": [
    "The relationship between the explained variance and singular  values are given by  $\\lambda_i = s_i^2/(N-1)$ we can verify the for the first singular value:\n"
   ]
  },
  {
   "cell_type": "code",
   "execution_count": null,
   "metadata": {},
   "outputs": [],
   "source": [
    "s[0]**2/(200-1)"
   ]
  },
  {
   "cell_type": "code",
   "execution_count": null,
   "metadata": {},
   "outputs": [],
   "source": [
    "pca.explained_variance_"
   ]
  },
  {
   "cell_type": "markdown",
   "metadata": {},
   "source": [
    "# Congratulations! - You have completed the lab\n"
   ]
  },
  {
   "cell_type": "markdown",
   "metadata": {},
   "source": [
    "## Authors\n"
   ]
  },
  {
   "cell_type": "markdown",
   "metadata": {},
   "source": [
    "<a href=\"https://www.linkedin.com/in/joseph-s-50398b136/?utm_medium=Exinfluencer&utm_source=Exinfluencer&utm_content=000026UJ&utm_term=10006555&utm_id=NA-SkillsNetwork-Channel-SkillsNetworkCoursesIBMDeveloperSkillsNetworkML0101ENSkillsNetwork20718538-2021-01-01\" target=\"_blank\">Joseph Santarcangelo</a> has a Ph.D. in Electrical Engineering, his research focused on using machine learning, signal processing, and computer vision to determine how videos impact human cognition. Joseph has been working for IBM since he completed his PhD\n"
   ]
  },
  {
   "cell_type": "markdown",
   "metadata": {},
   "source": [
    "### Other Contributors\n"
   ]
  },
  {
   "cell_type": "markdown",
   "metadata": {},
   "source": [
    "[Roxanne Li](https://www.linkedin.com/in/roxanne-li/?utm_medium=Exinfluencer&utm_source=Exinfluencer&utm_content=000026UJ&utm_term=10006555&utm_id=NA-SkillsNetwork-Channel-SkillsNetworkCoursesIBMML0187ENSkillsNetwork31430127-2022-01-01) is a Data Science intern at IBM Skills Network, entering level-5 study in the Mathematics & Statistics undergraduate Coop program at McMaster University.\n"
   ]
  },
  {
   "cell_type": "markdown",
   "metadata": {},
   "source": [
    "## Change Log\n"
   ]
  },
  {
   "cell_type": "markdown",
   "metadata": {},
   "source": [
    "| Date (YYYY-MM-DD) | Version | Changed By  | Change Description             |\n",
    "| ----------------- | ------- | ----------- | ------------------------------ |\n",
    "| 2022-03-25        | 0.1     | Joseph S.   | Updated all content            |\n",
    "| 2022-04-26        | 0.1     | Svitlana K. | Corrected minor grammar errors |\n",
    "| 2022-05-26        | 0.1     | Roxanne Li  | Review and edit content        |\n",
    "| 2022-06-02        | 0.2     | Steve H.    | QA pass                        |\n"
   ]
  }
 ],
 "metadata": {
  "kernelspec": {
   "display_name": "Python 3 (ipykernel)",
   "language": "python",
   "name": "python3"
  },
  "language_info": {
   "codemirror_mode": {
    "name": "ipython",
    "version": 3
   },
   "file_extension": ".py",
   "mimetype": "text/x-python",
   "name": "python",
   "nbconvert_exporter": "python",
   "pygments_lexer": "ipython3",
   "version": "3.9.13"
  },
  "toc-autonumbering": false
 },
 "nbformat": 4,
 "nbformat_minor": 4
}
